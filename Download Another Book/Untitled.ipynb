{
 "cells": [
  {
   "cell_type": "code",
   "execution_count": 1,
   "id": "2464a2c7-6f53-4ad4-99f7-7294914bfea3",
   "metadata": {},
   "outputs": [
    {
     "ename": "ModuleNotFoundError",
     "evalue": "No module named 'PIL'",
     "output_type": "error",
     "traceback": [
      "\u001b[0;31m---------------------------------------------------------------------------\u001b[0m",
      "\u001b[0;31mModuleNotFoundError\u001b[0m                       Traceback (most recent call last)",
      "Cell \u001b[0;32mIn[1], line 2\u001b[0m\n\u001b[1;32m      1\u001b[0m \u001b[38;5;28;01mimport\u001b[39;00m \u001b[38;5;21;01mrequests\u001b[39;00m\n\u001b[0;32m----> 2\u001b[0m \u001b[38;5;28;01mfrom\u001b[39;00m \u001b[38;5;21;01mPIL\u001b[39;00m \u001b[38;5;28;01mimport\u001b[39;00m Image\n\u001b[1;32m      3\u001b[0m \u001b[38;5;28;01mfrom\u001b[39;00m \u001b[38;5;21;01mio\u001b[39;00m \u001b[38;5;28;01mimport\u001b[39;00m BytesIO\n\u001b[1;32m      5\u001b[0m \u001b[38;5;66;03m# URL format for each page's image\u001b[39;00m\n",
      "\u001b[0;31mModuleNotFoundError\u001b[0m: No module named 'PIL'"
     ]
    }
   ],
   "source": [
    "import requests\n",
    "from PIL import Image\n",
    "from io import BytesIO\n",
    "\n",
    "# URL format for each page's image\n",
    "base_url = \"https://archive.org/download/dontsweats00carl/page/n{page_number}.jpg\"\n",
    "start_page = 1  # Starting page number\n",
    "end_page = 280  # Ending page number; adjust as per the book's total pages\n",
    "output_pdf = \"dont_sweat_the_small_stuff.pdf\"\n",
    "\n",
    "# List to hold the pages as PIL images\n",
    "pages = []\n",
    "\n",
    "# Start session\n",
    "with requests.Session() as session:\n",
    "    for page_number in range(start_page, end_page + 1):\n",
    "        # Construct URL for the current page\n",
    "        page_url = base_url.format(page_number=page_number)\n",
    "        \n",
    "        try:\n",
    "            # Request the page image\n",
    "            response = session.get(page_url)\n",
    "            response.raise_for_status()  # Check for successful request\n",
    "            \n",
    "            # Open the image and convert to RGB\n",
    "            page_image = Image.open(BytesIO(response.content)).convert(\"RGB\")\n",
    "            pages.append(page_image)\n",
    "            print(f\"Downloaded page {page_number}\")\n",
    "            \n",
    "        except requests.HTTPError as e:\n",
    "            print(f\"Failed to download page {page_number}: {e}\")\n",
    "            continue\n",
    "\n",
    "# Save all images as a single PDF file\n",
    "if pages:\n",
    "    pages[0].save(output_pdf, save_all=True, append_images=pages[1:])\n",
    "    print(f\"Saved book as {output_pdf}\")\n",
    "else:\n",
    "    print(\"No pages downloaded.\")\n"
   ]
  },
  {
   "cell_type": "code",
   "execution_count": 3,
   "id": "dad0a3fb-002c-44a2-9b58-1db8daca17c1",
   "metadata": {},
   "outputs": [
    {
     "ename": "ModuleNotFoundError",
     "evalue": "No module named 'PIL'",
     "output_type": "error",
     "traceback": [
      "\u001b[0;31m---------------------------------------------------------------------------\u001b[0m",
      "\u001b[0;31mModuleNotFoundError\u001b[0m                       Traceback (most recent call last)",
      "Cell \u001b[0;32mIn[3], line 1\u001b[0m\n\u001b[0;32m----> 1\u001b[0m \u001b[38;5;28;01mimport\u001b[39;00m \u001b[38;5;21;01mPIL\u001b[39;00m\n\u001b[1;32m      2\u001b[0m \u001b[38;5;28mprint\u001b[39m(PIL\u001b[38;5;241m.\u001b[39m__version__)\n",
      "\u001b[0;31mModuleNotFoundError\u001b[0m: No module named 'PIL'"
     ]
    }
   ],
   "source": [
    "import PIL\n",
    "print(PIL.__version__)\n",
    "\n"
   ]
  }
 ],
 "metadata": {
  "kernelspec": {
   "display_name": "Python 3 (ipykernel)",
   "language": "python",
   "name": "python3"
  },
  "language_info": {
   "codemirror_mode": {
    "name": "ipython",
    "version": 3
   },
   "file_extension": ".py",
   "mimetype": "text/x-python",
   "name": "python",
   "nbconvert_exporter": "python",
   "pygments_lexer": "ipython3",
   "version": "3.12.4"
  }
 },
 "nbformat": 4,
 "nbformat_minor": 5
}
