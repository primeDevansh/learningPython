# Let's resolve some ambiguity!
x = 1 - 2j
y = 3 + 2j
z = x + y

print(z)

print(type(z)) 


import random

x = random.randrange(0,10)
print(x)


print(5/2)
print(5.0//2)


import math
print(math.fabs(-5.0/2))


print(-5//2)
