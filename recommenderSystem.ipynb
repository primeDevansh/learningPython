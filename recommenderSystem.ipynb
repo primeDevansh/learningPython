{
 "cells": [
  {
   "cell_type": "code",
   "execution_count": 2,
   "id": "4554674e-9e27-4b71-93ab-b53a71394ddd",
   "metadata": {},
   "outputs": [
    {
     "name": "stdout",
     "output_type": "stream",
     "text": [
      "Recommended items for user 0: [3, 2]\n"
     ]
    }
   ],
   "source": [
    "import numpy as np\n",
    "from sklearn.metrics.pairwise import cosine_similarity\n",
    "\n",
    "class CollaborativeFilteringRecommender:\n",
    "    def __init__(self, ratings_matrix):\n",
    "        self.ratings_matrix = ratings_matrix\n",
    "\n",
    "    def fit(self):\n",
    "        # Compute item-item similarity matrix using cosine similarity\n",
    "        self.similarity_matrix = cosine_similarity(self.ratings_matrix.T)\n",
    "\n",
    "    def recommend(self, user_id, n=5):\n",
    "        # Get user ratings\n",
    "        user_ratings = self.ratings_matrix[user_id]\n",
    "\n",
    "        # Calculate scores for items not rated by the user\n",
    "        scores = self.similarity_matrix.dot(user_ratings)\n",
    "        scores = np.nan_to_num(scores)\n",
    "\n",
    "        # Sort items by score\n",
    "        recommended_item_indices = np.argsort(-scores)\n",
    "\n",
    "        # Filter out items already rated by the user\n",
    "        recommended_items = [i for i in recommended_item_indices if user_ratings[i] == 0]\n",
    "\n",
    "        # Return top n recommended items\n",
    "        return recommended_items[:n]\n",
    "\n",
    "# Example usage:\n",
    "if __name__ == \"__main__\":\n",
    "    # Sample ratings matrix (rows: users, columns: items)\n",
    "    ratings_matrix = np.array([\n",
    "        [5, 4, 0, 0],\n",
    "        [0, 0, 4, 5],\n",
    "        [3, 0, 0, 4],\n",
    "        [0, 0, 5, 4]\n",
    "    ])\n",
    "\n",
    "    # Initialize and fit the recommender system\n",
    "    recommender = CollaborativeFilteringRecommender(ratings_matrix)\n",
    "    recommender.fit()\n",
    "\n",
    "    # Recommend items for user 0\n",
    "    recommended_items = recommender.recommend(user_id=0, n=2)\n",
    "    print(\"Recommended items for user 0:\", recommended_items)"
   ]
  }
 ],
 "metadata": {
  "kernelspec": {
   "display_name": "Python 3 (ipykernel)",
   "language": "python",
   "name": "python3"
  },
  "language_info": {
   "codemirror_mode": {
    "name": "ipython",
    "version": 3
   },
   "file_extension": ".py",
   "mimetype": "text/x-python",
   "name": "python",
   "nbconvert_exporter": "python",
   "pygments_lexer": "ipython3",
   "version": "3.10.0"
  }
 },
 "nbformat": 4,
 "nbformat_minor": 5
}
