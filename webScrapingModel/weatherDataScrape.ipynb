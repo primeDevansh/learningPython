{
 "cells": [
  {
   "cell_type": "code",
   "execution_count": 2,
   "id": "8bc10d7a-cd22-42e2-a3b6-dc906b719ed7",
   "metadata": {},
   "outputs": [],
   "source": [
    "import requests\n",
    "file = requests.get(\"https://weather.com/en-IN/weather/tenday/l/INKA0344:1:IN\")"
   ]
  },
  {
   "cell_type": "code",
   "execution_count": 3,
   "id": "01cd1aa2-57c6-4b9a-83a3-c96b3ff1c4f4",
   "metadata": {},
   "outputs": [],
   "source": [
    "# import Beautifulsoup for scraping the data \n",
    "from bs4 import BeautifulSoup\n",
    "soup = BeautifulSoup(file.content, \"html.parser\")"
   ]
  },
  {
   "cell_type": "code",
   "execution_count": 4,
   "id": "aad075b9-01eb-4dcd-9773-f0567c99d6c0",
   "metadata": {},
   "outputs": [
    {
     "ename": "AttributeError",
     "evalue": "'NoneType' object has no attribute 'find'",
     "output_type": "error",
     "traceback": [
      "\u001b[0;31m---------------------------------------------------------------------------\u001b[0m",
      "\u001b[0;31mAttributeError\u001b[0m                            Traceback (most recent call last)",
      "Cell \u001b[0;32mIn[4], line 3\u001b[0m\n\u001b[1;32m      1\u001b[0m \u001b[38;5;66;03m# create empty list\u001b[39;00m\n\u001b[1;32m      2\u001b[0m \u001b[38;5;28mlist\u001b[39m \u001b[38;5;241m=\u001b[39m[]\n\u001b[0;32m----> 3\u001b[0m \u001b[38;5;28mall\u001b[39m \u001b[38;5;241m=\u001b[39m \u001b[43msoup\u001b[49m\u001b[38;5;241;43m.\u001b[39;49m\u001b[43mfind\u001b[49m\u001b[43m(\u001b[49m\u001b[38;5;124;43m\"\u001b[39;49m\u001b[38;5;124;43mdiv\u001b[39;49m\u001b[38;5;124;43m\"\u001b[39;49m\u001b[43m,\u001b[49m\u001b[43m \u001b[49m\u001b[43m{\u001b[49m\u001b[38;5;124;43m\"\u001b[39;49m\u001b[38;5;124;43mclass\u001b[39;49m\u001b[38;5;124;43m\"\u001b[39;49m\u001b[43m:\u001b[49m\u001b[38;5;124;43m\"\u001b[39;49m\u001b[38;5;124;43mlocations-title ten-day-page-title\u001b[39;49m\u001b[38;5;124;43m\"\u001b[39;49m\u001b[43m}\u001b[49m\u001b[43m)\u001b[49m\u001b[38;5;241;43m.\u001b[39;49m\u001b[43mfind\u001b[49m(\u001b[38;5;124m\"\u001b[39m\u001b[38;5;124mh1\u001b[39m\u001b[38;5;124m\"\u001b[39m)\u001b[38;5;241m.\u001b[39mtext\n\u001b[1;32m      5\u001b[0m \u001b[38;5;66;03m# find all table with class-\"twc-table\"\u001b[39;00m\n\u001b[1;32m      6\u001b[0m content \u001b[38;5;241m=\u001b[39m soup\u001b[38;5;241m.\u001b[39mfind_all(\u001b[38;5;124m\"\u001b[39m\u001b[38;5;124mtable\u001b[39m\u001b[38;5;124m\"\u001b[39m, {\u001b[38;5;124m\"\u001b[39m\u001b[38;5;124mclass\u001b[39m\u001b[38;5;124m\"\u001b[39m:\u001b[38;5;124m\"\u001b[39m\u001b[38;5;124mtwc-table\u001b[39m\u001b[38;5;124m\"\u001b[39m})\n",
      "\u001b[0;31mAttributeError\u001b[0m: 'NoneType' object has no attribute 'find'"
     ]
    }
   ],
   "source": [
    "# create empty list\n",
    "list =[]\n",
    "all = soup.find(\"div\", {\"class\":\"locations-title ten-day-page-title\"}).find(\"h1\").text\n",
    "\n",
    "# find all table with class-\"twc-table\"\n",
    "content = soup.find_all(\"table\", {\"class\":\"twc-table\"})\n",
    "for items in content:\n",
    "\tfor i in range(len(items.find_all(\"tr\"))-1):\n",
    "\t\t\t\t# create empty dictionary\n",
    "\t\tdict = {}\n",
    "\t\ttry: \n",
    "\t\t\t\t\t\t# assign value to given key \n",
    "\n",
    "\t\t\tdict[\"day\"]= items.find_all(\"span\", {\"class\":\"date-time\"})[i].text\n",
    "\t\t\tdict[\"date\"]= items.find_all(\"span\", {\"class\":\"day-detail\"})[i].text\t\t \n",
    "\t\t\tdict[\"desc\"]= items.find_all(\"td\", {\"class\":\"description\"})[i].text\n",
    "\t\t\tdict[\"temp\"]= items.find_all(\"td\", {\"class\":\"temp\"})[i].text\n",
    "\t\t\tdict[\"precip\"]= items.find_all(\"td\", {\"class\":\"precip\"})[i].text\n",
    "\t\t\tdict[\"wind\"]= items.find_all(\"td\", {\"class\":\"wind\"})[i].text\n",
    "\t\t\tdict[\"humidity\"]= items.find_all(\"td\", {\"class\":\"humidity\"})[i].text\n",
    "\t\texcept: \n",
    "\t\t\t\t\t# assign None values if no items are there with specified class\n",
    "\n",
    "\t\t\tdict[\"day\"]=\"None\"\n",
    "\t\t\tdict[\"date\"]=\"None\"\n",
    "\t\t\tdict[\"desc\"]=\"None\"\n",
    "\t\t\tdict[\"temp\"]=\"None\"\n",
    "\t\t\tdict[\"precip\"]=\"None\"\n",
    "\t\t\tdict[\"wind\"]=\"None\"\n",
    "\t\t\tdict[\"humidity\"]=\"None\"\n",
    "\n",
    "\t\t# append dictionary values to the list\n",
    "\t\tlist.append(dict)\n"
   ]
  }
 ],
 "metadata": {
  "kernelspec": {
   "display_name": "Python 3 (ipykernel)",
   "language": "python",
   "name": "python3"
  },
  "language_info": {
   "codemirror_mode": {
    "name": "ipython",
    "version": 3
   },
   "file_extension": ".py",
   "mimetype": "text/x-python",
   "name": "python",
   "nbconvert_exporter": "python",
   "pygments_lexer": "ipython3",
   "version": "3.10.0"
  }
 },
 "nbformat": 4,
 "nbformat_minor": 5
}
