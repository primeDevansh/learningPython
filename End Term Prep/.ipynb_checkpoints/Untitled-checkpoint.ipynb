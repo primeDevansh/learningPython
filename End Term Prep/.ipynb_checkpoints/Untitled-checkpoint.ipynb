{
 "cells": [
  {
   "cell_type": "code",
   "execution_count": 21,
   "id": "495c6761-22df-4b8b-98eb-5aba735d143e",
   "metadata": {},
   "outputs": [
    {
     "name": "stdout",
     "output_type": "stream",
     "text": [
      "Number of characters in the webpage: 178978\n",
      "Loop ran 178978 times\n"
     ]
    }
   ],
   "source": [
    "import requests as rq\n",
    "\n",
    "rsp_obj = rq.get('https://automatetheboringstuff.com/files/rj.txt')\n",
    "\n",
    "rsp_obj.raise_for_status()\n",
    "\n",
    "writeFile = open('fromInternet.txt', 'wb')\n",
    "\n",
    "count = 0\n",
    "print('Number of characters in the webpage: %d' % (len(rsp_obj.text)))\n",
    "for chunk in rsp_obj.iter_content(1):\n",
    "    print('%d' % (writeFile.write(chunk)))\n",
    "    count += 1\n",
    "\n",
    "print('Loop ran %d times' % (count))\n",
    "\n",
    "writeFile.close()\n"
   ]
  },
  {
   "cell_type": "code",
   "execution_count": 17,
   "id": "0301a193-0fe2-4e53-9c05-c6c1a15f77e2",
   "metadata": {},
   "outputs": [
    {
     "name": "stdout",
     "output_type": "stream",
     "text": [
      "<class 'generator'>\n"
     ]
    }
   ],
   "source": [
    "\n",
    "print(type(rsp_obj.iter_content(100000)))\n"
   ]
  }
 ],
 "metadata": {
  "kernelspec": {
   "display_name": "Python 3 (ipykernel)",
   "language": "python",
   "name": "python3"
  },
  "language_info": {
   "codemirror_mode": {
    "name": "ipython",
    "version": 3
   },
   "file_extension": ".py",
   "mimetype": "text/x-python",
   "name": "python",
   "nbconvert_exporter": "python",
   "pygments_lexer": "ipython3",
   "version": "3.10.0"
  }
 },
 "nbformat": 4,
 "nbformat_minor": 5
}
