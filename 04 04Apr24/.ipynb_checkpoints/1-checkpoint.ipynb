{
 "cells": [
  {
   "cell_type": "code",
   "execution_count": 77,
   "id": "1a3458af-d488-429d-a6cf-e933dfb7bff2",
   "metadata": {},
   "outputs": [
    {
     "name": "stdout",
     "output_type": "stream",
     "text": [
      "(4+0j)\n",
      "<class 'complex'>\n"
     ]
    }
   ],
   "source": [
    "# Let's resolve some ambiguity!\n",
    "x = 1 - 2j\n",
    "y = 3 + 2j\n",
    "z = x + y\n",
    "\n",
    "print(z)\n",
    "\n",
    "print(type(z)) "
   ]
  },
  {
   "cell_type": "code",
   "execution_count": 78,
   "id": "db077147-2ad4-4747-b50c-c481233878dc",
   "metadata": {},
   "outputs": [
    {
     "name": "stdout",
     "output_type": "stream",
     "text": [
      "5\n"
     ]
    }
   ],
   "source": [
    "import random\n",
    "\n",
    "x = random.randrange(0,10)\n",
    "print(x)"
   ]
  },
  {
   "cell_type": "code",
   "execution_count": 79,
   "id": "28ef5e09-4946-4adf-b40d-67b5b345b3d3",
   "metadata": {},
   "outputs": [
    {
     "name": "stdout",
     "output_type": "stream",
     "text": [
      "2.5\n",
      "2.0\n"
     ]
    }
   ],
   "source": [
    "print(5/2)\n",
    "print(5.0//2)"
   ]
  },
  {
   "cell_type": "code",
   "execution_count": 81,
   "id": "ddd1f277-51c2-4293-9e09-5b38437c1797",
   "metadata": {},
   "outputs": [
    {
     "name": "stdout",
     "output_type": "stream",
     "text": [
      "2.5\n"
     ]
    }
   ],
   "source": [
    "import math\n",
    "print(math.fabs(-5.0/2))"
   ]
  },
  {
   "cell_type": "code",
   "execution_count": 82,
   "id": "1a1417d0-c0ce-4290-bf39-43afaa6bf26e",
   "metadata": {},
   "outputs": [
    {
     "name": "stdout",
     "output_type": "stream",
     "text": [
      "-3\n"
     ]
    }
   ],
   "source": [
    "print(-5//2)"
   ]
  }
 ],
 "metadata": {
  "kernelspec": {
   "display_name": "Python 3 (ipykernel)",
   "language": "python",
   "name": "python3"
  },
  "language_info": {
   "codemirror_mode": {
    "name": "ipython",
    "version": 3
   },
   "file_extension": ".py",
   "mimetype": "text/x-python",
   "name": "python",
   "nbconvert_exporter": "python",
   "pygments_lexer": "ipython3",
   "version": "3.12.1"
  }
 },
 "nbformat": 4,
 "nbformat_minor": 5
}
