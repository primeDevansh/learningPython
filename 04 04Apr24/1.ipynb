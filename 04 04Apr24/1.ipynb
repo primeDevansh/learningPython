{
 "cells": [
  {
   "cell_type": "code",
   "execution_count": 1,
   "id": "1a3458af-d488-429d-a6cf-e933dfb7bff2",
   "metadata": {},
   "outputs": [
    {
     "name": "stdout",
     "output_type": "stream",
     "text": [
      "(4+0j)\n",
      "<class 'complex'>\n"
     ]
    }
   ],
   "source": [
    "# Let's resolve some ambiguity!\n",
    "x = 1 - 2j\n",
    "y = 3 + 2j\n",
    "z = x + y\n",
    "\n",
    "print(z)\n",
    "\n",
    "print(type(z)) "
   ]
  },
  {
   "cell_type": "code",
   "execution_count": null,
   "id": "db077147-2ad4-4747-b50c-c481233878dc",
   "metadata": {},
   "outputs": [],
   "source": []
  }
 ],
 "metadata": {
  "kernelspec": {
   "display_name": "Python 3 (ipykernel)",
   "language": "python",
   "name": "python3"
  },
  "language_info": {
   "codemirror_mode": {
    "name": "ipython",
    "version": 3
   },
   "file_extension": ".py",
   "mimetype": "text/x-python",
   "name": "python",
   "nbconvert_exporter": "python",
   "pygments_lexer": "ipython3",
   "version": "3.12.1"
  }
 },
 "nbformat": 4,
 "nbformat_minor": 5
}
