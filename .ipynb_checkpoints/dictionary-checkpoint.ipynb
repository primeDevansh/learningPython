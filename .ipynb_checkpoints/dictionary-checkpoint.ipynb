{
 "cells": [
  {
   "cell_type": "code",
   "execution_count": 1,
   "id": "7f5da3b2-8758-4cff-83c6-12659bc66c8f",
   "metadata": {},
   "outputs": [
    {
     "name": "stdout",
     "output_type": "stream",
     "text": [
      "Dictionary contents in ascending order of marks:\n",
      "David: 65\n",
      "Bob: 70\n",
      "Emma: 78\n",
      "Alice: 85\n",
      "Charlie: 92\n"
     ]
    }
   ],
   "source": [
    "# Sample dictionary with student names and marks\n",
    "student_marks = {\n",
    "    'Alice': 85,\n",
    "    'Bob': 70,\n",
    "    'Charlie': 92,\n",
    "    'David': 65,\n",
    "    'Emma': 78\n",
    "}\n",
    "\n",
    "# Sort the dictionary based on marks in ascending order\n",
    "sorted_student_marks = sorted(student_marks.items(), key=lambda x: x[1])\n",
    "\n",
    "# Print the sorted dictionary contents\n",
    "print(\"Dictionary contents in ascending order of marks:\")\n",
    "for student, marks in sorted_student_marks:\n",
    "    print(f\"{student}: {marks}\")"
   ]
  }
 ],
 "metadata": {
  "kernelspec": {
   "display_name": "Python 3 (ipykernel)",
   "language": "python",
   "name": "python3"
  },
  "language_info": {
   "codemirror_mode": {
    "name": "ipython",
    "version": 3
   },
   "file_extension": ".py",
   "mimetype": "text/x-python",
   "name": "python",
   "nbconvert_exporter": "python",
   "pygments_lexer": "ipython3",
   "version": "3.10.0"
  }
 },
 "nbformat": 4,
 "nbformat_minor": 5
}
